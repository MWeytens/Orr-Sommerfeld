{
 "cells": [
  {
   "cell_type": "markdown",
   "metadata": {},
   "source": [
    "## Introduction\n",
    "\n",
    "Un sujet important en mécanique des fluides est l'étude de la stabilité des écoulements. De manière générale, on se donne un champ de vitesse du fluide laminaire $\\vec{U}(\\vec{x})$ et on étudie son évolution lorsqu'on lui ajoute des \"petites\" perturbations. Si ces perturbations décroissent systématiquement au cours du temps, l'écoulement sera dit **stable**. Dans le cas contraire, l'écoulement pourrait être **instable** et se transformer en un écoulement turbulent.\n",
    "\n",
    "Par exemple, soit l'écoulement de Poiseuille à 2D. Il correspond au déplacement laminaire d'un fluide entre deux plaques parallèles:\n",
    "\n",
    "\n",
    "\n",
    "En choisissant les unités de manière appropriées, le profil de cet écoulement est donné par\n",
    "$$\\vec{U}(y)=(1-y^2)\\vec{1}_x.$$\n",
    "La vitesse est maximale au centre du canal et nulle sur les parois solides.\n",
    "\n",
    "## Perturbation de l'écoulement de base\n",
    "Ajoutons une perturbation à cet écoulement de base. La vitesse totale de l'écoulement s'écrit alors,\n",
    "\n",
    "$$\\vec{u}(x,y,t)=(1-y^2)\\vec{1}_x + \\vec{u'}(x,y,t)$$ \n",
    "où\n",
    "\\begin{equation*}\n",
    "    \\vec{u'}(x,y,t) = \n",
    "            \\begin{cases}\n",
    "               u'(x,y,t)           \\\\\n",
    "               v'(x,y,t)               \n",
    "            \\end{cases}\n",
    "\\end{equation*}\n",
    "\n",
    "est la perturbation. Comme nous faisons l'hypothèse que l'écoulement est incompressible, les deux composantes de la fluctuation ne sont pas indépendantes et sont reliées par,\n",
    "\n",
    "\\begin{align}\n",
    "\\frac{\\partial u'}{\\partial x}+\\frac{\\partial v'}{\\partial y}=0.\n",
    "\\end{align}\n",
    "\n",
    "Si le fluide considéré est un fluide commun comme l'air où l'eau, sa dynamique peut être décrite par les équations de Navier-Stokes. L'analyse de la stabilité de l'écoulement commence alors par la linéarisation de ces équations et il est possible de montrer que dans ce régime linéaire, la perturbation verticale du champ de vitesse obéït à l'équation d'Orr-Sommerfeld:\n",
    "\n",
    "\\begin{align}\n",
    "\\left(\\frac{\\partial}{\\partial t}+U(y)\\frac{\\partial}{\\partial x}\\right)\\nabla^2 v' - U''(y)\\frac{\\partial v'}{\\partial x} - \\frac{1}{R}\\nabla^2 \\nabla^2 v' =0 \n",
    "\\end{align}\n",
    "\n",
    "avec comme conditions aux bords $v=\\partial v / \\partial y =0$ en $y=\\pm 1$ et où $\\nabla^2= \\partial^2 / \\partial^2 x^2+ \\partial / \\partial y^2$ et $R$ est le nombre de Reynolds de l'écoulement (paramêtre fixé).\n",
    "\n",
    "Le domaine étant infini dans la direction $x$, on peut toujours exprimer une perturbation comme une somme de modes périodiques monochromatiques (qui correspondent à une seule longueur d'onde). Si l'on se restreint à un seul mode, la perturbation $v'$ prend donc la forme d'un mode monochromatique dans la direction $x$:\n",
    "\n",
    "$$v'(x,y,t)=\\hat{v}'(y,t)e^{i\\alpha x}$$\n",
    "\n",
    "L'équation d'évolution pour $\\hat{v}'$ est alors:\n",
    "\n",
    "\\begin{align}\n",
    "\\frac{\\partial}{\\partial t}(D^2-\\alpha^2)\\hat{v}'&=\\left\\{-i\\alpha U(D^2-\\alpha^2)+i\\alpha U''+\\frac{1}{R}(D^2-\\alpha^2)^2\\right\\}\\hat{v}'\\\\\n",
    "&\\Leftrightarrow\\\\\n",
    "\\frac{\\partial}{\\partial t}\\hat{v}'&=(D^2-\\alpha^2)^{-1}\\left\\{-i\\alpha U(D^2-\\alpha^2)+i\\alpha U''+\\frac{1}{R}(D^2-\\alpha^2)^2\\right\\}\\hat{v}'\n",
    "\\end{align}\n",
    "où le symbole $D=\\frac{d}{dy}$ représente la dérivée par rapport à $y$ et $(D^2-\\alpha^2)^{-1}$ est l'inverse de l'opérateur $D^2-\\alpha^2$.\n",
    "\n",
    "De manière compacte, cette équation peut être écrite sous la forme:\n",
    "\n",
    "\\begin{align}\n",
    "\\frac{\\partial}{\\partial t}\\hat{v}'&=L\\hat{v}'\\quad\\quad (*)\n",
    "\\end{align}\n",
    "avec $L$ l'opérateur linéaire suivant:\n",
    "\n",
    "\\begin{align}\n",
    "L=(D^2-\\alpha^2)^{-1}\\left\\{-i\\alpha U(D^2-\\alpha^2)+i\\alpha U''+\\frac{1}{R}(D^2-\\alpha^2)^2\\right\\}\n",
    "\\end{align}"
   ]
  },
  {
   "cell_type": "markdown",
   "metadata": {},
   "source": [
    "Comme l'équation d'évolution de $\\hat{v}'$ est linéaire, il est aussi possible d'introduire un propagateur qui transforme toute condition initiale $\\hat{v}'(0)$ en la solution à l'instant $\\hat{v}'(t)$,\n",
    "\n",
    "\\begin{align}\n",
    "\\hat{v}'(t)=X(t)\\hat{v}'(0)\n",
    "\\end{align}\n",
    "\n",
    "En utilisant l'équation d'évolution de $\\hat{v}'$ on obtient directement l'équation d'évolution du propagateur:\n",
    "\\begin{align}\n",
    "\\frac{\\partial}{\\partial t}X(t)&=L X(t),\\,\\, \\mathrm{avec}\\;  X(0)=I \\quad\\quad (**) \n",
    "\\end{align}\n",
    "où $I$ est l'identité."
   ]
  },
  {
   "cell_type": "markdown",
   "metadata": {},
   "source": [
    "## Analyse de la stabilité\n",
    "\n",
    "Une des questions fondamentales qui se posent est de savoir si l'amplitude d'une perturbation quelconque va croître avec le temps et quelle est la forme optimale d'une perturbation pour déstabiliser l'écoulement. Ces questions peuvent être analysées en mesurant la norme (l'énergie cinétique dans notre cas) de la perturbation verticale au cours du temps:\n",
    "\n",
    "\\begin{align}\n",
    "{\\cal E}(t)=\\frac{1}{4a}\\int_{-1}^{1}\\int_0^a Re(v'(t))^2 dxdy\n",
    "\\end{align}\n",
    "\n",
    "où $a=2\\pi/\\alpha$ et $Re()$ désigne la partie réelle de $v'$. En utilisant la forme des perturbations choisies (modes monochromatiques) on a alors,\n",
    "\n",
    "\\begin{align}\n",
    "{\\cal E}(t)=\\lVert \\hat{v}^{'*}(t) \\lVert^2 =\\frac{1}{8}\\int_{-1}^{1}\\hat{v}^{'*}(t)\\hat{v}^{'}(t)dy\n",
    "\\end{align}\n",
    "où le symbole $^*$ represente le complexe conjugué."
   ]
  },
  {
   "cell_type": "markdown",
   "metadata": {},
   "source": [
    "Dans l'analyse de stabilité dite non-modale, on cherche la perturbation qui maximise l'amplification de la norme choisie. Par exemple, l'amplification maximale $\\Phi_\\alpha$ possible à un instant $t$ pour un nombre $\\alpha$ donnée est définie par:\n",
    "\n",
    "\\begin{align}\n",
    "\\Phi_\\alpha(t)=\\max_{\\hat{v}^{'}(0)}\\frac{\\lVert \\hat{v}^{'}(t)\\lVert}{\\lVert \\hat{v}^{'}(0)\\lVert}=\\max_{\\hat{v}^{'}(0)}\\frac{\\lVert X(t)\\hat{v}^{'}(0)\\lVert}{\\lVert \\hat{v}^{'}(0)\\lVert}= \\lVert X(t)\\lVert \n",
    "\\end{align}\n"
   ]
  },
  {
   "cell_type": "markdown",
   "metadata": {},
   "source": [
    "La dernière égalité résulte de la définition de la norme du propagateur $X(t)$. Lorsque la norme choisie est la norme $L^2$ comme ici, on peut montrer que la norme du propagateur est égale à sa plus grande valeur singulière. La décomposition d'une matrice à partir de ses valeurs singulières est une généralisation de la décomposition en valeurs propres: https://en.wikipedia.org/wiki/Singular_value_decomposition. Afin de déterminer les valeurs singulières d'une matrice, numpy contient une routine dédiée que nous pouvons utiliser ici. Elle prend la forme (voir manuel de numpy):\n",
    "\n",
    "```u,s,vh = numpy.linalg.svd(X)```\n",
    "\n",
    "$s$ est un vecteur dont les composantes correspondent aux valeurs singulières de la matrice $X(t)$. Par ailleurs, $u$ et $v$ sont des matrices dont les colonnes correspondent respectivement aux vecteurs \"de sortie et dentrée\" de la décomposition (attention, la matrice vh donnée par la routine est la transposée conjuguée de $v$). On a donc les relations:\n",
    "\n",
    "\\begin{align}\n",
    "X\\cdot v[:,i] = s_iu[:,i]\n",
    "\\end{align}\n",
    "\n",
    "où le $\\cdot$ représente la multiplication matricielle et $s_i$ est la $i$-ème valeur singulière."
   ]
  },
  {
   "cell_type": "markdown",
   "metadata": {},
   "source": [
    "## Travail personnel"
   ]
  },
  {
   "cell_type": "markdown",
   "metadata": {},
   "source": [
    "On commence par importer les modules Python nécessaires :"
   ]
  },
  {
   "cell_type": "code",
   "execution_count": 1,
   "metadata": {},
   "outputs": [],
   "source": [
    "import numpy \n",
    "import scipy\n",
    "from scipy import linalg\n",
    "from matplotlib import pyplot\n",
    "%matplotlib inline"
   ]
  },
  {
   "cell_type": "markdown",
   "metadata": {},
   "source": [
    "Afin de résoudre l'équation (*), on peut introduire une grille 1D comme suit :"
   ]
  },
  {
   "cell_type": "code",
   "execution_count": 2,
   "metadata": {},
   "outputs": [],
   "source": [
    "N=101\n",
    "L=1.0\n",
    "y=numpy.linspace(-L,L,N)\n",
    "dy=2*L/(N-1)"
   ]
  },
  {
   "cell_type": "markdown",
   "metadata": {},
   "source": [
    "**Question 1: (2 points)**\n",
    "\n",
    "Pour $\\hat{v}'$, le problème contient 4 conditions aux bords. Les conditions du type Dirichlet se traduisent par: v[0]=0 et v[N-1]=0.\n",
    "\n",
    "En vous servant du lien, https://en.wikipedia.org/wiki/Finite_difference_coefficient, déterminer comment se traduisent les conditions du type von Neumann $\\frac{\\partial v}{\\partial y}(y=-1)=\\frac{\\partial v}{\\partial y}(y=1)=0$ si on adopte une \"forward finite difference\" du second ordre pour la dérivée première sur le bord $y=-1$ et une \"backward finite difference\" du second ordre pour la dérivée première sur le bord $y=1$."
   ]
  },
  {
   "cell_type": "markdown",
   "metadata": {},
   "source": [
    "**Réponse:**\n",
    "\n",
    "Par simplicité de notation, on écrira dans la suite $v$ pour désigner $\\hat{v}'$.\n",
    "\n",
    "En suivant les indications, on a pour la dérivée en $y =-1$:\n",
    "\n",
    "\\begin{align}\n",
    "\\frac{\\partial v}{\\partial y}\\rvert_{y=-1} = 0 = \\frac{\\frac{-3}{2}v[0] + 2 v[1] - \\frac{1}{2} v[2]}{\\Delta y} + \\mathcal{O}((\\Delta y)^2)\n",
    "\\end{align} \n",
    "\n",
    "et pour la dérivée en $y=1$:\n",
    "\n",
    "\\begin{align}\n",
    "\\frac{\\partial v}{\\partial y}\\rvert_{y=1} = 0 = \\frac{\\frac{1}{2}v[N-3] - 2 v[N-2] + \\frac{3}{2} v[N-1]}{\\Delta y} + \\mathcal{O}((\\Delta y)^2)\n",
    "\\end{align}\n",
    "\n",
    "Puisque $v[0] = 0 = v[N-1]$ on peut extraire de ces expressions des conditions sur $v[1]$ et $v[N-2]$ données par:\n",
    "\n",
    "\\begin{align}\n",
    "v[1] = \\frac{1}{4} v[2] \\text{ et } v[N-2] = \\frac{1}{4} v[N-3]\n",
    "\\end{align}"
   ]
  },
  {
   "cell_type": "markdown",
   "metadata": {},
   "source": [
    "De la question précédente, on déduit que la discrétisation de $\\hat{v}'$ ne contient que $N-4$ valeurs indépendantes et qu'on peut dès lors définir numériquement:"
   ]
  },
  {
   "cell_type": "code",
   "execution_count": 3,
   "metadata": {},
   "outputs": [],
   "source": [
    "v=numpy.empty(N-4)"
   ]
  },
  {
   "cell_type": "markdown",
   "metadata": {},
   "source": [
    "**Question 2: (3 points)**\n",
    "\n",
    "En tenant compte de votre réponse à la question 1, compléter la routine suivante afin qu'elle retourne une discrétisation de l'opérateur $D^2$ du type \"central finite difference\" valable à l'ordre 2 et qui agit sur les valeurs indépendantes de ${\\hat v}'$."
   ]
  },
  {
   "cell_type": "markdown",
   "metadata": {},
   "source": [
    "**Réponse:**\n",
    "\n",
    "Par simplicité de notation, on écrira $v_i$ pour $v[i]$\n",
    "On se rappelle que l'opérateur $D$ n'est rien d'autre que $\\frac{\\partial}{\\partial y}$ et donc la discrétisation du type \"central finite difference\" nous donne l'équation:\n",
    "\n",
    "\\begin{align}\n",
    "\\frac{\\partial^2 v_i}{\\partial y^2} = \\frac{v_{i-1} - 2 v_i + v_{i+1}}{(\\Delta y)^2} + \\mathcal{O}((\\Delta y )^2) \\text{  pour } 1 < i < N-2\n",
    "\\end{align}\n",
    "\n",
    "A part quand $i=2$ ou $i=N-3$ on connait tous les termes de ces égalités. \n",
    "\n",
    "Que devient cette équation pour les termes du bord?\n",
    "A la question 1, on avait trouvé les expressions $v_1 = \\frac{1}{4} v_2 \\text{ et } v_{N-2} = \\frac{1}{4} v_{N-3}$ donc on peut modifier l'égalité ci-dessus pour obtenir (en retirant les $\\mathcal{O}$):\n",
    "\n",
    "\\begin{align}\n",
    "\\frac{\\partial^2 v_2}{\\partial y^2} = \\frac{\\frac{-7}{4} v_2 + v_3}{(\\Delta y)^2} \\qquad et \\qquad \\frac{\\partial^2 v_{N-3}}{\\partial y^2} = \\frac{ v_{N-4} - \\frac{7}{4} v_{N-3}}{(\\Delta y)^2}\n",
    "\\end{align}\n",
    "\n",
    "On est maintenant prêt pour écrire tout ça sous forme matricielle:\n",
    "\n",
    "\\begin{align}\n",
    "\\frac{\\partial^2 v}{\\partial y^2} = \\frac{1}{(\\Delta y)^2} \n",
    "\\begin{pmatrix}\n",
    "\\frac{-7}{4} & 1  &    &       &   &    &\\\\\n",
    "1            & -2 & 1  &       &   &    &\\\\\n",
    "             & 1  & -2 & 1     &   &    &\\\\\n",
    "             &    &    & \\ddots&   &    &\\\\\n",
    "             &    &    &       & 1 & -2 & 1\\\\\n",
    "             &    &    &       &   & 1  & \\frac{-7}{4}\\\\\n",
    "\\end{pmatrix}\n",
    ". v = D^2 v\n",
    "\\end{align}\n",
    "\n",
    "où toutes les cases vides sont en fait des 0."
   ]
  },
  {
   "cell_type": "code",
   "execution_count": 4,
   "metadata": {},
   "outputs": [],
   "source": [
    "# Operator of the second derivative acting on v with respect to y \n",
    "def D2_v(N,dy):\n",
    "    \"\"\"\n",
    "    Calcule et retourne l'opérateur D^2 de l'equation d'Orr-Sommerfeld.\n",
    "    On utilise central finite difference et des conditions Neumann et Dirichlet aux bords.\n",
    "    \n",
    "    Parametres\n",
    "    ----------\n",
    "    N : integer\n",
    "        Nombre de valeures indépendantes.\n",
    "    dy : float\n",
    "        Ecart entre les différents points de la grille.\n",
    "    \n",
    "    Returns\n",
    "    -------\n",
    "    D2_v : numpy.ndarray\n",
    "        L'opérateur D^2 de l'équation d'Orr-Sommerfeld. Une matrice N fois N.\n",
    "    \"\"\"\n",
    "    # simplifie les notations\n",
    "    dy_sq = dy*dy\n",
    "    # On crée une matrice de diagonale -2/(dy)^2.\n",
    "    D = numpy.diag(-2.0 /dy_sq * numpy.ones(N))\n",
    "    # On modifie les coins nord-ouest et sud-est.\n",
    "    D[0, 0] = -1.75 / dy_sq\n",
    "    D[-1, -1] = -1.75 / dy_sq\n",
    "    # Diagonale supérieure.\n",
    "    U = numpy.diag(1.0 / dy_sq * numpy.ones(N - 1), k=1)\n",
    "    # Diagonale inférieure.\n",
    "    L = numpy.diag(1.0 / dy_sq * numpy.ones(N - 1), k=-1)\n",
    "    # On somme le tout.\n",
    "    D2_v = D + U + L\n",
    "    return D2_v"
   ]
  },
  {
   "cell_type": "code",
   "execution_count": 5,
   "metadata": {},
   "outputs": [
    {
     "data": {
      "text/plain": [
       "array([[-1.75,  1.  ,  0.  ,  0.  ],\n",
       "       [ 1.  , -2.  ,  1.  ,  0.  ],\n",
       "       [ 0.  ,  1.  , -2.  ,  1.  ],\n",
       "       [ 0.  ,  0.  ,  1.  , -1.75]])"
      ]
     },
     "execution_count": 5,
     "metadata": {},
     "output_type": "execute_result"
    }
   ],
   "source": [
    "\"\"\"TEST\"\"\"\n",
    "D2_v(4,1)"
   ]
  },
  {
   "cell_type": "markdown",
   "metadata": {},
   "source": [
    "**Question 3: (3 points)** \n",
    "\n",
    "Faites de même pour l'opérateur de dérivée 4ème, $D^4 = \\frac{\\partial^4}{\\partial y^4}$ en complétant la routine suivante afin qu'elle retourne une discrétisation de l'opérateur $D^4$ du type \"central finite difference\" valable à l'ordre 2 et qui agit sur les valeurs indépendantes de ${\\hat v}'$."
   ]
  },
  {
   "cell_type": "markdown",
   "metadata": {},
   "source": [
    "**Réponse:**\n",
    "\n",
    "La formule pour la dérivée quatrième est \n",
    "\n",
    "\\begin{align}\n",
    "\\frac{\\partial^4 v_i}{\\partial y^4} = \\frac{v_{i-2} - 4 v_{i-1} + 6 v_{i} - 4 v_{i+1} + v_{i+2}}{(\\Delta y)^4} + \\mathcal{O}((\\Delta y )^2) \\text{ pour } 1< i < N-2\n",
    "\\end{align}\n",
    "\n",
    "En utilisant les relations $v_0 = 0$, $v_1 = \\frac{1}{4} v_2$, $ v_{N-2} = \\frac{1}{4} v_{N-3}$ et $v_{N-1}=0$ on peut simplifier les expressions pour les points les plus proches du bord:\n",
    "\n",
    "\\begin{align}\n",
    "\\begin{array}{lccc}\n",
    "i = 2: & v_0 - 4v_1 + 6v_2 = 5v_2 & \\Rightarrow & (\\Delta y)^4 \\frac{\\partial^4 v_2}{\\partial y^4} = 5v_2 - 4v_3 + v_4\\\\\n",
    "i = 3: & v_1 - 4 v_2 = \\frac{-15}{4}v_2 & \\Rightarrow & (\\Delta y)^4 \\frac{\\partial^4 v_3}{\\partial y^4} = \\frac{-15}{4} v_2 + 6v_3 -4v_4 + v5\\\\\n",
    "i = N-4: & - 4 v_{N-3} + v_{N-2} = \\frac{-15}{4}v_{N-3} & \\Rightarrow & (\\Delta y)^4 \\frac{\\partial^4 v_{N-4}}{\\partial y^4} = v_{N-6} -4v_{N-5} + 6v_{N-4} - \\frac{15}{4} v_{N-3} \\\\\n",
    "i = N-3: & 6 v_{N-3} - 4 v_{N-2} + v_{N-1} = 5v_{N-3} & \\Rightarrow & (\\Delta y)^4 \\frac{\\partial^4 v_{N-3}}{\\partial y^4} = v_{N-5} - 4 v_{N-4} + 5 v_{N-3}\n",
    "\\end{array}\n",
    "\\end{align}\n",
    "\n",
    "D'où la forme matricielle suivante:\n",
    "\n",
    "\\begin{align}\n",
    "\\frac{\\partial^4 v}{\\partial y^4} = \\frac{1}{(\\Delta y)^4} \n",
    "\\begin{pmatrix}\n",
    "        5     & -4 &  1  &        &    &    &\\\\\n",
    "\\frac{-15}{4} &  6 & -4  &  1     &    &    &\\\\\n",
    "        1     & -4 &  6  & -4     & 1  &    &\\\\\n",
    "              &  1 & -4  &  6     & -4 & 1  &\\\\\n",
    "              &    &     & \\ddots &    &    &\\\\\n",
    "              &    &  1  & -4     & 6  & -4 &  1 \\\\\n",
    "              &    &     &      1 & -4 & 6  & \\frac{-15}{4}\\\\\n",
    "              &    &     &        & 1  & -4 & 5\\\\          \n",
    "\\end{pmatrix}.v = D^4 v\n",
    "\\end{align}"
   ]
  },
  {
   "cell_type": "code",
   "execution_count": 6,
   "metadata": {},
   "outputs": [],
   "source": [
    "# Operator of the fourth derivative acting on v with respect to y \n",
    "def D4_v(N,dy):\n",
    "    \"\"\"\n",
    "    Calcule et retourne l'opérateur D^4 de l'equation d'Orr-Sommerfeld.\n",
    "    On utilise central finite difference et des conditions Neumann et Dirichlet aux bords.\n",
    "    \n",
    "    Parametres\n",
    "    ----------\n",
    "    N : integer\n",
    "        Nombre de valeurs indépendantes.\n",
    "    dy : float\n",
    "        Ecart entre les différents points de la grille.\n",
    "    \n",
    "    Returns\n",
    "    -------\n",
    "    D4_v : numpy.ndarray\n",
    "        L'opérateur D^4 de l'équation d'Orr-Sommerfeld. Une matrice N fois N.\n",
    "    \"\"\"\n",
    "    # simplifie les notations\n",
    "    d4 = dy*dy*dy*dy\n",
    "    # On crée une matrice de diagonale 6/(dy)^2.\n",
    "    D = numpy.diag(6.0 / d4 * numpy.ones(N))\n",
    "    # Diagonale supérieure 1.\n",
    "    U = numpy.diag(-4.0 / d4 * numpy.ones(N - 1), k=1)\n",
    "    # Diagonale inférieure 1.\n",
    "    L = numpy.diag(-4.0 / d4 * numpy.ones(N - 1), k=-1)\n",
    "    # Diagonale supérieure 2.\n",
    "    U2 = numpy.diag(1.0 / d4 * numpy.ones(N - 2), k=2)\n",
    "    # Diagonale inférieure 2.\n",
    "    L2 = numpy.diag(1.0 / d4 * numpy.ones(N - 2), k=-2)\n",
    "    # On somme le tout.\n",
    "    D4_v = D + U + U2 + L + L2\n",
    "    #On modifie les anomalies dues aux bords.\n",
    "    D4_v[0, 0]   = 5.0    # Nord-Ouest\n",
    "    D4_v[1, 0]   = -3.75  # Au Sud du Nord-Ouest \n",
    "    D4_v[-1, -1] = 5.0    # Sud-Est\n",
    "    D4_v[-2, -1] = -3.75  # Au Nord du Sud-Est\n",
    "    return D4_v"
   ]
  },
  {
   "cell_type": "code",
   "execution_count": 7,
   "metadata": {},
   "outputs": [
    {
     "data": {
      "text/plain": [
       "array([[ 5.  , -4.  ,  1.  ,  0.  ,  0.  ,  0.  ],\n",
       "       [-3.75,  6.  , -4.  ,  1.  ,  0.  ,  0.  ],\n",
       "       [ 1.  , -4.  ,  6.  , -4.  ,  1.  ,  0.  ],\n",
       "       [ 0.  ,  1.  , -4.  ,  6.  , -4.  ,  1.  ],\n",
       "       [ 0.  ,  0.  ,  1.  , -4.  ,  6.  , -3.75],\n",
       "       [ 0.  ,  0.  ,  0.  ,  1.  , -4.  ,  5.  ]])"
      ]
     },
     "execution_count": 7,
     "metadata": {},
     "output_type": "execute_result"
    }
   ],
   "source": [
    "\"\"\"TEST\"\"\"\n",
    "D4_v(6,1)"
   ]
  },
  {
   "cell_type": "markdown",
   "metadata": {},
   "source": [
    "**Question 4: (4 points)** \n",
    "\n",
    "En vous servant des routines précédantes, créer une routine qui permet de construire l'opérateur $L$. Pour information, un nombre complexe en Python peut être créé simplement en utilisant pour le nombre imaginaire $i$ le symbole 1j. Par example, le nombre $3+2i$ s'écrira ``` 3+2*1j ```."
   ]
  },
  {
   "cell_type": "markdown",
   "metadata": {},
   "source": [
    "**Réponse:**\n",
    "\n",
    "À partir de la définition de L donnée plus tôt:\n",
    "\\begin{align}\n",
    "L=(D^2-\\alpha^2)^{-1}\\left\\{-i\\alpha U(D^2-\\alpha^2)+i\\alpha U''+\\frac{1}{R}(D^2-\\alpha^2)^2\\right\\}\n",
    "\\end{align}\n",
    "Pour calculer chacun de ces termes, notons que $\\alpha$ signifie matriciellement $\\alpha * id$ et que $U$ dépend de $y$ ( $U(y) = 1 - y^2$ ), avec $U'' = -2$, donc comme $\\hat{v}'$ sera une liste contenant tous les $\\hat{v}'(t,y)$ pour chaque y à l'instant t, et qu'à chaque fois $U(y)$ s'applique sur chaque valeur individuellement, on peut voir matriciellement \n",
    "\\begin{align}\n",
    "U(y) = \\begin{pmatrix} \n",
    "U(y_0) & 0      & \\dots    & 0\\\\\n",
    "0      & U(y_1) & \\dots    & 0\\\\\n",
    "                && \\ddots\\\\\n",
    "0      & 0      & \\dots    & U(y_{N-1})\n",
    "\\end{pmatrix}\n",
    "\\end{align}\n",
    "De plus, grâce à la discrétisation des fonctions, et puisque les opérateurs différentiels sont linéaires, on peut voir ces derniers comme des matrices agissant sur les composantes de $\\hat{v}'$ et on peut donc les inverser."
   ]
  },
  {
   "cell_type": "markdown",
   "metadata": {},
   "source": [
    "$\\textit{Remarque:}$ Ici $N$ correspondra au nombre de valeurs indépendantes de $\\hat{v}'$ dans notre problème, donc comme on l'a dit à l'exercice 1, s'il y a $N'$ valeurs de y, il y aura $N = N'-4$ valeurs indépendantes."
   ]
  },
  {
   "cell_type": "markdown",
   "metadata": {},
   "source": [
    "$\\textit{Remarque:}$ Pour avoir effectivement un opérateur valable à l'ordre 2, on ne peut pas utiliser $(D^2-\\alpha^2)^2$, mais grâce au calcul de $D^4$ de l'exercice précédent on peut calculer $(D^2-\\alpha^2)^2 = D^4 -2\\alpha D^2+\\alpha^4$."
   ]
  },
  {
   "cell_type": "code",
   "execution_count": 9,
   "metadata": {},
   "outputs": [],
   "source": [
    "# Function U(y)\n",
    "def U(y):\n",
    "    \"\"\" Implémente la fonction d'écoulement.\n",
    "        \n",
    "        Parametres\n",
    "        ----------\n",
    "        y : float\n",
    "            Coordonnée y du point où on calcule U\n",
    "        \n",
    "        Returns:\n",
    "        --------\n",
    "        float\n",
    "            Valeur de l'écoulement dans la direction 1x au point y\n",
    "    \"\"\"\n",
    "    return 1 - y*y"
   ]
  },
  {
   "cell_type": "code",
   "execution_count": 11,
   "metadata": {},
   "outputs": [],
   "source": [
    "# Operator L\n",
    "def L_v(N,dy,y,R,alpha):\n",
    "    \"\"\" Calcule et retourne l'opérateur L de l'équation d'Orr-Sommerfeld, à partir du calcul de D^2 et de D^4.\n",
    "\n",
    "        Parametres\n",
    "        ----------\n",
    "        N : integer\n",
    "            Nombre de valeures indépendantes.\n",
    "        dy : float\n",
    "            Ecart entre les différents points de la grille.\n",
    "        y : ndarray\n",
    "            Coordonnées y de la grille où on calcule l'opérateur.\n",
    "        R : float\n",
    "            Nombre de Reynolds caractérisant l'écoulement.\n",
    "        alpha : float\n",
    "            Mode de la pertubation considérée (monochromatique).\n",
    "\n",
    "        Returns\n",
    "        -------\n",
    "        L_v : numpy.ndarray\n",
    "            L'opérateur L de l'équation d'Orr-Sommerfeld. Une matrice N fois N.\n",
    "    \"\"\"\n",
    "    alph_sq = alpha*alpha\n",
    "    alph_four = alph_sq*alph_sq\n",
    "    # Opérateur D^2 - alpha^2\n",
    "    D_min_al = D2_v(N, dy) - alph_sq * numpy.identity(N)\n",
    "    # Opérateur (D^2 - alpha^2)^2\n",
    "    D_min_al_sq = D4_v(N, dy) - 2 * alph_sq * D2_v(N,dy) + alph_four * numpy.identity(N) \n",
    "    # Matrice diagonale U(y)\n",
    "    Uy = numpy.diag(U(y))\n",
    "    \n",
    "    # Premier terme -i.alpha.U.(D^2 - alpha^2) \n",
    "    first_term = -1j * alpha * numpy.matmul(Uy, D_min_al)\n",
    "    # Deuxième terme i.alpha.U'' (U'' = -2)\n",
    "    second_term = (1j * alpha * -2) * numpy.identity(N)\n",
    "    # Troisième terme 1/R .(D^2 - aplha^2)^2\n",
    "    third_term = 1/R * D_min_al_sq\n",
    "    # Inverse de D^2 - alpha^2\n",
    "    D_min_al_inv = numpy.linalg.inv(D_min_al)\n",
    "    # On regroupe tout\n",
    "    L = numpy.matmul(D_min_al_inv,(first_term + second_term + third_term))\n",
    "    return L"
   ]
  },
  {
   "cell_type": "markdown",
   "metadata": {},
   "source": [
    "**Question 5: (2 points)** \n",
    "\n",
    "En utilisant un algortihme RK4 dans le temps (https://en.wikipedia.org/wiki/Runge–Kutta_methods#The_Runge–Kutta_method) et un pas de temps de $dt=0.01$, calculer la valeur de ${\\hat v}'$ en $y=0.5$ pour un temps final de $10s$ à partir de la condition initiale suivante,\n",
    "\n",
    "\\begin{align}\n",
    "{\\hat v}'(y) = 0.02*(1+\\cos(\\pi y))\n",
    "\\end{align}\n",
    "\n",
    "On choisit commme paramêtres, $R=500$ et $\\alpha=0.3$.\n",
    "\n",
    "*Solution: ${\\hat v}'(0.5)=0.00772852-0.01239437i$.*"
   ]
  },
  {
   "cell_type": "markdown",
   "metadata": {},
   "source": [
    "**Réponse:**\n",
    "\n",
    "On a l'équation différentielle linéaire avec condition initiale, de Dirichlet et de Neumann\n",
    "\\begin{equation}\n",
    "\\begin{cases} \n",
    "    \\frac{\\partial}{\\partial t} \\hat{v}' = L\\hat{v}' \\\\\n",
    "    \\hat{v}'(0,y) = 0.02 * (1+\\cos(\\pi y)) \\quad \\forall y \\in [-1,1] \\\\ \n",
    "    \\hat{v}'(t,-1) = \\hat{v}'(t,1) = 0 \\quad \\forall t>0\\\\\n",
    "    \\frac{\\partial}{\\partial t} \\hat{v}'(t,-1) = \\frac{\\partial}{\\partial t} \\hat{v}'(t,1) = 0 \\quad \\forall t>0\n",
    "\\end{cases} \n",
    "\\end{equation}"
   ]
  },
  {
   "cell_type": "markdown",
   "metadata": {},
   "source": [
    "$\\textit{Remarque :}$ Il est important quand on pose de telles conditions initiales qu'elles soient en accord avec les conditions de Dirichlet et de Neumann pour $t=0$. C'est bien le cas ici."
   ]
  },
  {
   "cell_type": "markdown",
   "metadata": {},
   "source": [
    "En suivant l'indication, on a que pour un pas de temps $dt$, l'équation $\\dot v(t) = F(t,v)$: \n",
    "\\begin{align}\n",
    "v(t+dt) &= v(t) + \\frac{1}{6} (k_1 + 2 k_2 + 2 k_3 + k_4) \\text{, où} \\\\\n",
    "&\\begin{cases} \n",
    "k_1 = dt F(t,v(t))\\\\\n",
    "k_2 = dt F(t + \\frac{dt}{2}, v(t) + \\frac{k_1}{2})\\\\\n",
    "k_3 = dt F(t + \\frac{dt}{2}, v(t) + \\frac{k_2}{2})\\\\\n",
    "k_4 = dt F(t + dt, v(t) + k_3)\n",
    "\\end{cases}\n",
    "\\end{align}\n",
    "Ici $v$ est un vecteur, contenant les valeurs de $\\hat{v}'$ pour chaque y, et $F(t,v) = Lv$"
   ]
  },
  {
   "cell_type": "code",
   "execution_count": 12,
   "metadata": {},
   "outputs": [],
   "source": [
    "# Implementing Runge-Kutta method\n",
    "def RK4(T, dt, y, v0, L):\n",
    "    \"\"\" Calcule selon l'algorithme RK4 la solution apres N_t itérations à l'équation différentielle avec \n",
    "            conditions initiales: d/dt v(t,y) = L*v(t,y), v(0,y) = v0(y).\n",
    "        On suppose les conditions de Dirichlet et de Neumann fixées.\n",
    "            \n",
    "        Parametres\n",
    "        ----------\n",
    "        T : float\n",
    "            Temps final auquel on calcule la solution.\n",
    "        dt : float\n",
    "            Pas de temps.\n",
    "        y : ndarray\n",
    "            Liste des valeurs de y où on considère l'équation.\n",
    "        v0 : ndarray\n",
    "            Condition initiale, pour chaque valeur de y.\n",
    "        L : ndarray\n",
    "            Matrice, correspondant à l'opérateur linéaire L. Si les ys sont de taille N_y, L doit être une \n",
    "            matrice carrée (N_y-4)x(N_y-4)\n",
    "        \n",
    "        Outputs\n",
    "        -------\n",
    "        v_n : ndarray\n",
    "            Valeurs v(T) pour chaque y, calculées selon l'algorithme.\n",
    "    \"\"\"\n",
    "    N_y = len(y)\n",
    "    # Initialisation des paramètres\n",
    "    v_n = v0.copy()\n",
    "    t_n = 0\n",
    "    # On reproduit l'algorithme sur les composantes indépendantes\n",
    "    while t_n <= T:\n",
    "        k1 = dt * numpy.matmul(L, v_n[2:N_y-2])\n",
    "        k2 = dt * numpy.matmul(L, v_n[2:N_y-2] + k1/2.0)\n",
    "        k3 = dt * numpy.matmul(L, v_n[2:N_y-2] + k2/2.0)\n",
    "        k4 = dt * numpy.matmul(L, v_n[2:N_y-2] + k3)\n",
    "        v_n[2:N_y-2] += (k1 + 2*k2 + 2*k3 + k4)/6.0\n",
    "        # Exécute le pas dt\n",
    "        t_n += dt\n",
    "    # Conditions de Neumann\n",
    "    v_n[1]     = 0.25*v_n[2]\n",
    "    v_n[N_y-2] = 0.25*v_n[N_y-3]\n",
    "    return v_n #hist"
   ]
  },
  {
   "cell_type": "code",
   "execution_count": 14,
   "metadata": {},
   "outputs": [
    {
     "data": {
      "text/plain": [
       "(0.005753690994853329-0.012368252062766604j)"
      ]
     },
     "execution_count": 14,
     "metadata": {},
     "output_type": "execute_result"
    }
   ],
   "source": [
    "# On rappelle les parametres:\n",
    "N=101\n",
    "L=1.0\n",
    "y=numpy.linspace(-L,L,N)\n",
    "dy=2*L/(N-1)\n",
    "v=numpy.empty(N-4)\n",
    "T = 10 # Temps final [s]\n",
    "dt = .01 # Pas de temps [s]\n",
    "R = 500\n",
    "alpha = .3\n",
    "\n",
    "# Conditions initiales :\n",
    "v0 = .02*(1+numpy.cos(numpy.pi*y))+0*1j\n",
    "\n",
    "RK4(T, dt, y, v0, L_v(N-4, dy, y[2:N-2], R, alpha))[numpy.where(y==.5)[0][0]]"
   ]
  },
  {
   "cell_type": "markdown",
   "metadata": {},
   "source": [
    "**Question 6: (1 point)** \n",
    "\n",
    "A partir de l'équation (**), calculer le propagateur $X$ à l'instant $t=10$ pour les mêmes valeurs des paramètres que précédemment: $R=500$ et $\\alpha=0.3$. Utiliser à nouveau un algorithme RK4 dans le temps et un pas de temps $dt=0.01$."
   ]
  },
  {
   "cell_type": "markdown",
   "metadata": {},
   "source": [
    "**Réponse:**\n",
    "\n",
    "On sait que le propagateur $X(t)$ satisfait lui aussi l'équation $$\\dot{X}(t) = L \\cdot X(t)$$\n",
    "Evidemment, les conditions aux bords restent satisfaites:\n",
    "\n",
    "$\\textit{Condition de Dirichlet}$:\n",
    "\n",
    "\\begin{equation}\n",
    "v_t[0] = \\sum_j X_t[0,j]v_0[j] = 0 \\quad \\forall v_0 \\Rightarrow X_t[0,j] = 0 \\quad  \\forall j\n",
    "\\end{equation}\n",
    "Et donc aussi $X_t[N-1,j] = 0 \\quad  \\forall j$\n",
    "\n",
    "$\\textit{Condition de Neumann}$:\n",
    "\n",
    "\\begin{equation}\n",
    "v_t[1] = \\frac{1}{4} v_t[2] \\Leftrightarrow \\sum_j X_t[1,j] v_0[j] = \\frac{1}{4}\\sum_j X_t[2,j] v_0[j] \\quad \\forall v_0\\Rightarrow X_t[1,j] = \\frac{1}{4} X_t[2,j] \\quad \\forall j\n",
    "\\end{equation}\n",
    "Et donc aussi $X_t[N-2,j] = \\frac{1}{4} X_t[N-3,j] \\quad \\forall j$\n",
    "\n",
    "\n"
   ]
  },
  {
   "cell_type": "code",
   "execution_count": 15,
   "metadata": {},
   "outputs": [],
   "source": [
    "def RK4_matriciel(T, dt, y, X_0, L):\n",
    "    \"\"\" Calcule selon l'algorithme RK4 le propagateur X apres N_t itérations à l'équation différentielle avec \n",
    "            conditions initiales: d/dt X(t) = L*X(t), X(0) = X_0.\n",
    "        On suppose les conditions de Dirichlet et de Neumann fixées.\n",
    "            \n",
    "        Parametres\n",
    "        ----------\n",
    "        T : float\n",
    "            Temps final auquel on calcule la solution.\n",
    "        dt : float\n",
    "            Pas de temps.\n",
    "        X_0 : ndarray\n",
    "            Matrice des condition initiale. carrée de taille N_y x N_y\n",
    "        L : ndarray\n",
    "            Matrice, correspondant à l'opérateur linéaire L. Si les ys sont de taille N_y, L doit être une \n",
    "            matrice carrée (N_y-4)x(N_y-4)\n",
    "        \n",
    "        Outputs\n",
    "        -------\n",
    "        X_n : ndarray\n",
    "            Propagateur X(T), calculé selon l'algorithme. Matrice N_y x N_y\n",
    "    \"\"\"\n",
    "    N_y = numpy.shape(X_0)[0]\n",
    "    # Initialisation des paramètres\n",
    "    X_n = X_0.copy()\n",
    "    t_n = 0\n",
    "    # On itère l'algorithme N_t fois\n",
    "    while t_n <= T:\n",
    "        # On retire les deux premieres et dernieres lignes\n",
    "        X_n_ind = X_n[2:N_y-2, :]\n",
    "        # RK4\n",
    "        k1 = dt * numpy.matmul(L, X_n_ind)\n",
    "        k2 = dt * numpy.matmul(L, X_n_ind + k1/2)\n",
    "        k3 = dt * numpy.matmul(L, X_n_ind + k2/2)\n",
    "        k4 = dt * numpy.matmul(L, X_n_ind + k3)\n",
    "        X_n_ind += (k1 + 2*k2 + 2*k3 + k4)\n",
    "        # Execute le pas dt\n",
    "        t_n += dt\n",
    "    # Conditions aux bords\n",
    "    X_n[0,:] = numpy.zeros(N_y,dtype=complex)\n",
    "    X_n[1, : ] = 0.25 * X_n[2, :]\n",
    "    X_n[N_y-2, : ] = 0.25 * X_n[N_y-3, :]\n",
    "    X_n[N_y-1, : ] = numpy.zeros(N_y,dtype=complex)\n",
    "    return X_n               "
   ]
  },
  {
   "cell_type": "markdown",
   "metadata": {},
   "source": [
    "**Question 7: (1 point)** \n",
    "\n",
    "Vérifier que le propagateur transforme bien la condition initiale de la question 5 en la solution que vous avez obtenue."
   ]
  },
  {
   "cell_type": "code",
   "execution_count": 16,
   "metadata": {},
   "outputs": [
    {
     "data": {
      "text/plain": [
       "(0.000733797935567278-0.0005737668384727559j)"
      ]
     },
     "execution_count": 16,
     "metadata": {},
     "output_type": "execute_result"
    }
   ],
   "source": [
    "X_10 = RK4_matriciel(T, dt, y, numpy.identity(N,dtype=complex), L_v(N-4, dy, y[2:N-2], R, alpha))\n",
    "\n",
    "numpy.matmul(X_10, v0)[numpy.where(y==.5)[0][0]]"
   ]
  },
  {
   "cell_type": "markdown",
   "metadata": {},
   "source": [
    "**Question 8: (2 points)** \n",
    "\n",
    "En utilisant la fonction disponible dans numpy, effectuer la décomposition singulière du propagateur obtenu à la question 7 et calculer la plus grande des valeurs sigulières. Faire un graphique de la perturbation optimale correspondante (elle correspond au vecteur d'entrée associé à cette plus grande valeur singulière).\n",
    "\n",
    "*Solution: s=3.3042383*"
   ]
  },
  {
   "cell_type": "markdown",
   "metadata": {},
   "source": [
    "**Réponse:**\n",
    "\n",
    "On avait, par définition des valeurs singulières, $X \\cdot v[:,i_{max}] = s_{i_{max}} u[:,i]$ où $i_{max}$ est l'indice dans $s$ correspondant à la valeur singulière maximale $s_{i_{max}}$, $v = vh.conj().T$ (transposée conjuguée) si $vh$ est la matrice d'entrée rendu par la fonction de décomposition en valeurs singulières.\n",
    "La fonction suivante retourne $s_{i_{max}}$ et $v[:,i_{max}]$"
   ]
  },
  {
   "cell_type": "code",
   "execution_count": 17,
   "metadata": {},
   "outputs": [],
   "source": [
    "def get_maxsv_maxpert(X):\n",
    "    \"\"\" Rend la valeur singulière maximale du propagateur X et sa perturbation optimale correspondante.\n",
    "    \n",
    "    Parametres:\n",
    "    -----------\n",
    "    X : ndarray\n",
    "        matrice N x N correspondant au propagateur pour un certain temps t\n",
    "    \n",
    "    Output:\n",
    "    -------\n",
    "    float\n",
    "        maximum des valeurs singulières de X(t)\n",
    "    v_max : ndarray\n",
    "        vecteur de perturbation optimale associée\n",
    "    \"\"\"\n",
    "    # Décomposition singlulière du propagateur\n",
    "    u, s, vh = numpy.linalg.svd(X)\n",
    "    # indice correspondant à la valeur singulière maximale dans s\n",
    "    ind_max = numpy.argmax(s)\n",
    "    # transposée conjuguée\n",
    "    v_max = vh.conj().T[:,ind_max]\n",
    "    return s[ind_max], v_max"
   ]
  },
  {
   "cell_type": "code",
   "execution_count": 18,
   "metadata": {},
   "outputs": [
    {
     "name": "stdout",
     "output_type": "stream",
     "text": [
      "La plus grande valeur singulière est 0.30123879416679744\n"
     ]
    }
   ],
   "source": [
    "print('La plus grande valeur singulière est', get_maxsv_maxpert(X_10)[0])"
   ]
  },
  {
   "cell_type": "code",
   "execution_count": 20,
   "metadata": {},
   "outputs": [],
   "source": [
    "def plot_maxpert(X):\n",
    "    \"\"\" Fait un graphique de la perturbation optimale correspondant à la plus grande valeur singulière du\n",
    "            propagateur X.\n",
    "        \n",
    "        Paramètres:\n",
    "        -----------\n",
    "            X : ndarray\n",
    "                matrice N x N correspondant au propagateur pour un certain temps t\n",
    "    \"\"\"\n",
    "    graph = pyplot.plot(y,get_maxsv_maxpert(X)[1])\n",
    "    pyplot.suptitle('Fonction de la perturbation initiale optimale pour alpha = 0.3',fontsize = 20)\n",
    "    pyplot.xlabel('axe y')\n",
    "    pyplot.ylabel('perturbation')"
   ]
  },
  {
   "cell_type": "code",
   "execution_count": 21,
   "metadata": {},
   "outputs": [
    {
     "name": "stderr",
     "output_type": "stream",
     "text": [
      "/home/lollo/anaconda3/lib/python3.7/site-packages/numpy/core/_asarray.py:85: ComplexWarning: Casting complex values to real discards the imaginary part\n",
      "  return array(a, dtype, copy=False, order=order)\n"
     ]
    },
    {
     "data": {
      "image/png": "[encoded data removed]",
      "text/plain": [
       "<Figure size 432x288 with 1 Axes>"
      ]
     },
     "metadata": {
      "needs_background": "light"
     },
     "output_type": "display_data"
    }
   ],
   "source": [
    "plot_maxpert(X_10)"
   ]
  },
  {
   "cell_type": "markdown",
   "metadata": {},
   "source": [
    "**Question 9: (2 points)** \n",
    "\n",
    "En faisant varier $\\alpha$ comme paramètre dans le propagateur, écrire un programme qui permet de déterminer la valeur de $\\alpha$ qui maximise l'amplification des perturbations à l'instant $t=10$ (toujours avec $R=500$) et en utilisant la même résolution et méthode numérique que précédemment. Faire un graphique de $s$ en fonction de $k$."
   ]
  },
  {
   "cell_type": "markdown",
   "metadata": {},
   "source": [
    "**Réponse:**\n",
    "\n",
    "À un temps $t$, pour un mode $\\alpha$, l'amplification des perturbations maximale possible $\\Phi_\\alpha(t)= \\lVert X(t) \\rVert$. De plus, la norme du propagateur est égale à sa plus grande valeur singulière $s$."
   ]
  },
  {
   "cell_type": "code",
   "execution_count": 22,
   "metadata": {},
   "outputs": [],
   "source": [
    "def get_max_amp(alpha, y, L, t=10.0, dt=.01):\n",
    "    \"\"\" Donne l'amplification des perturbations au temps t, pour un propagateur de paramètre alpha qu'on \n",
    "            calcule à partir de l'algorithme RK4 avec conditions aux bords vues plus haut.\n",
    "        \n",
    "        Parametres:\n",
    "        -----------\n",
    "        alpha : float\n",
    "            Mode de la pertubation considérée (monochromatique).\n",
    "        y : ndarray\n",
    "            Vecteur des valeurs de hauteur où on considère les équations.\n",
    "        L : ndarray\n",
    "            Matrice, correspondant à l'opérateur linéaire L. Si les y sont de taille N_y, L doit être une \n",
    "            matrice carrée (N_y-4)x(N_y-4)\n",
    "        t : float\n",
    "            Temps apres lequel on regarde l'amplification des perturbations.\n",
    "        dt : float\n",
    "            Pas de temps pour faire évoluer le propagateur depuis t=0 de façon discrète.\n",
    "        \n",
    "        Outputs:\n",
    "        --------\n",
    "        float : \n",
    "            Plus grande valeur singulière du propagateur au temps t, égale à l'amplification maximale possible \n",
    "    \"\"\"\n",
    "    N_y = len(y)\n",
    "    X_0 = numpy.identity(N, dtype=complex)\n",
    "    # On calcule le propagateur à l'instant t selon notre algorithme\n",
    "    X_t = RK4_matriciel(t, dt, y, X_0, L)\n",
    "    return get_maxsv_maxpert(X_t)[0]"
   ]
  },
  {
   "cell_type": "markdown",
   "metadata": {},
   "source": [
    "Puisque L est une fonction paire de $\\alpha$ on peut chercher un maximum uniquement sur le demi-axe positif. On ne regardera d'ailleurs les valeurs dans un voisinage proche de 0.3"
   ]
  },
  {
   "cell_type": "code",
   "execution_count": 23,
   "metadata": {},
   "outputs": [
    {
     "name": "stdout",
     "output_type": "stream",
     "text": [
      "Le meilleur alpha est 0.16666666666666666\n"
     ]
    },
    {
     "data": {
      "text/plain": [
       "Text(0, 0.5, 'amplification maximale')"
      ]
     },
     "execution_count": 23,
     "metadata": {},
     "output_type": "execute_result"
    },
    {
     "data": {
      "image/png": "[encoded data removed]",
      "text/plain": [
       "<Figure size 432x288 with 1 Axes>"
      ]
     },
     "metadata": {
      "needs_background": "light"
     },
     "output_type": "display_data"
    }
   ],
   "source": [
    "alphas = numpy.linspace(0,2,num=25)\n",
    "best_alpha, amp_max = None, 0\n",
    "\n",
    "ss = []\n",
    "# Pour chaque valeure de alhpha, on calcule l'amplification maximale\n",
    "for alpha in alphas:\n",
    "    current = get_max_amp(alpha,y,L_v(N-4, dy, y[2:N-2], 500, alpha))\n",
    "    ss.append(current)\n",
    "    # on fait en sorte qu'à la fin, le best_alpha soit celui qui correspond à la plus grande des amplifications maximales\n",
    "    if current > amp_max:\n",
    "        best_alpha = alpha\n",
    "        amp_max = current\n",
    "print('Le meilleur alpha est',best_alpha)\n",
    "pyplot.plot(alphas,ss)\n",
    "pyplot.suptitle('Perturbation maximale en fonction de alpha')\n",
    "pyplot.xlabel(r'$\\alpha$')\n",
    "pyplot.ylabel('amplification maximale')"
   ]
  },
  {
   "cell_type": "markdown",
   "metadata": {},
   "source": [
    "Au vu du graphe précédent, on peut calculer les amplifications pour des valeurs plus proches de 1.6"
   ]
  },
  {
   "cell_type": "code",
   "execution_count": 24,
   "metadata": {},
   "outputs": [
    {
     "name": "stdout",
     "output_type": "stream",
     "text": [
      "Le meilleur alpha est 0.125\n"
     ]
    },
    {
     "data": {
      "text/plain": [
       "Text(0, 0.5, 'amplification maximale')"
      ]
     },
     "execution_count": 24,
     "metadata": {},
     "output_type": "execute_result"
    },
    {
     "data": {
      "image/png": "[encoded data removed]",
      "text/plain": [
       "<Figure size 432x288 with 1 Axes>"
      ]
     },
     "metadata": {
      "needs_background": "light"
     },
     "output_type": "display_data"
    }
   ],
   "source": [
    "alphas = numpy.linspace(0,0.25,num=25)\n",
    "best_alpha, amp_max = None, 0\n",
    "\n",
    "ss = []\n",
    "# Pour chaque valeure de alhpha, on calcule l'amplification maximale\n",
    "for alpha in alphas:\n",
    "    current = get_max_amp(alpha,y,L_v(N-4, dy, y[2:N-2], 500, alpha))\n",
    "    ss.append(current)\n",
    "    # on fait en sorte qu'à la fin, le best_alpha soit celui qui correspond à la plus grande des amplifications maximales\n",
    "    if current > amp_max:\n",
    "        best_alpha = alpha\n",
    "        amp_max = current\n",
    "print('Le meilleur alpha est',best_alpha)\n",
    "pyplot.plot(alphas,ss)\n",
    "pyplot.suptitle('Perturbation maximale en fonction de alpha')\n",
    "pyplot.xlabel(r'$\\alpha$')\n",
    "pyplot.ylabel('amplification maximale')"
   ]
  }
 ],
 "metadata": {
  "kernelspec": {
   "display_name": "Python 3",
   "language": "python",
   "name": "python3"
  },
  "language_info": {
   "codemirror_mode": {
    "name": "ipython",
    "version": 3
   },
   "file_extension": ".py",
   "mimetype": "text/x-python",
   "name": "python",
   "nbconvert_exporter": "python",
   "pygments_lexer": "ipython3",
   "version": "3.7.4"
  }
 },
 "nbformat": 4,
 "nbformat_minor": 2
}
